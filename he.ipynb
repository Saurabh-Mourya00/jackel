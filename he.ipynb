{
 "cells": [
  {
   "cell_type": "code",
   "execution_count": 2,
   "id": "481d7350",
   "metadata": {},
   "outputs": [
    {
     "name": "stdout",
     "output_type": "stream",
     "text": [
      "Initialized empty Git repository in D:/MLOPS Practice/port1/.git/\n"
     ]
    }
   ],
   "source": [
    "!git init"
   ]
  },
  {
   "cell_type": "code",
   "execution_count": 3,
   "id": "04355445",
   "metadata": {},
   "outputs": [
    {
     "name": "stdout",
     "output_type": "stream",
     "text": [
      "On branch master\n",
      "\n",
      "No commits yet\n",
      "\n",
      "Untracked files:\n",
      "  (use \"git add <file>...\" to include in what will be committed)\n",
      "\the.ipynb\n",
      "\n",
      "nothing added to commit but untracked files present (use \"git add\" to track)\n"
     ]
    }
   ],
   "source": [
    "!git status"
   ]
  },
  {
   "cell_type": "code",
   "execution_count": 5,
   "id": "68ac4bea",
   "metadata": {},
   "outputs": [],
   "source": [
    "!echo. > .gitignore"
   ]
  },
  {
   "cell_type": "code",
   "execution_count": 6,
   "id": "db15d660",
   "metadata": {},
   "outputs": [],
   "source": [
    "!echo  \"*.csv\" >>.gitignore"
   ]
  },
  {
   "cell_type": "code",
   "execution_count": 7,
   "id": "ca58bebb",
   "metadata": {},
   "outputs": [],
   "source": [
    "!echo \"./assets\" >>.gitignore"
   ]
  },
  {
   "cell_type": "code",
   "execution_count": 8,
   "id": "17939ac6",
   "metadata": {},
   "outputs": [
    {
     "name": "stdout",
     "output_type": "stream",
     "text": [
      "On branch master\n",
      "\n",
      "No commits yet\n",
      "\n",
      "Untracked files:\n",
      "  (use \"git add <file>...\" to include in what will be committed)\n",
      "\t.gitignore\n",
      "\the.ipynb\n",
      "\n",
      "nothing added to commit but untracked files present (use \"git add\" to track)\n"
     ]
    }
   ],
   "source": [
    "!git status"
   ]
  },
  {
   "cell_type": "code",
   "execution_count": 9,
   "id": "40988716",
   "metadata": {},
   "outputs": [],
   "source": [
    "!echo \"print(\"Hello from training.py\")\" > training.py"
   ]
  },
  {
   "cell_type": "code",
   "execution_count": 10,
   "id": "ab498cca",
   "metadata": {},
   "outputs": [
    {
     "name": "stdout",
     "output_type": "stream",
     "text": [
      "On branch master\n",
      "\n",
      "No commits yet\n",
      "\n",
      "Untracked files:\n",
      "  (use \"git add <file>...\" to include in what will be committed)\n",
      "\t.gitignore\n",
      "\the.ipynb\n",
      "\ttraining.py\n",
      "\n",
      "nothing added to commit but untracked files present (use \"git add\" to track)\n"
     ]
    }
   ],
   "source": [
    "!git status"
   ]
  },
  {
   "cell_type": "code",
   "execution_count": 11,
   "id": "6e70391d",
   "metadata": {},
   "outputs": [],
   "source": [
    "!git add training.py"
   ]
  },
  {
   "cell_type": "code",
   "execution_count": 12,
   "id": "6abd9374",
   "metadata": {},
   "outputs": [
    {
     "name": "stdout",
     "output_type": "stream",
     "text": [
      "On branch master\n",
      "\n",
      "No commits yet\n",
      "\n",
      "Changes to be committed:\n",
      "  (use \"git rm --cached <file>...\" to unstage)\n",
      "\tnew file:   training.py\n",
      "\n",
      "Untracked files:\n",
      "  (use \"git add <file>...\" to include in what will be committed)\n",
      "\t.gitignore\n",
      "\the.ipynb\n",
      "\n"
     ]
    }
   ],
   "source": [
    "!git status"
   ]
  },
  {
   "cell_type": "code",
   "execution_count": 13,
   "id": "d0315047",
   "metadata": {},
   "outputs": [
    {
     "name": "stderr",
     "output_type": "stream",
     "text": [
      "git: 'add.' is not a git command. See 'git --help'.\n",
      "\n",
      "The most similar command is\n",
      "\tadd\n"
     ]
    }
   ],
   "source": [
    "!git add."
   ]
  },
  {
   "cell_type": "code",
   "execution_count": 16,
   "id": "72f265f1",
   "metadata": {},
   "outputs": [
    {
     "name": "stderr",
     "output_type": "stream",
     "text": [
      "warning: in the working copy of 'he.ipynb', LF will be replaced by CRLF the next time Git touches it\n"
     ]
    }
   ],
   "source": [
    "! git add ."
   ]
  },
  {
   "cell_type": "code",
   "execution_count": 17,
   "id": "7826c9e2",
   "metadata": {},
   "outputs": [
    {
     "name": "stdout",
     "output_type": "stream",
     "text": [
      "On branch master\n",
      "\n",
      "No commits yet\n",
      "\n",
      "Changes to be committed:\n",
      "  (use \"git rm --cached <file>...\" to unstage)\n",
      "\tnew file:   .gitignore\n",
      "\tnew file:   he.ipynb\n",
      "\tnew file:   training.py\n",
      "\n",
      "Changes not staged for commit:\n",
      "  (use \"git add <file>...\" to update what will be committed)\n",
      "  (use \"git restore <file>...\" to discard changes in working directory)\n",
      "\tmodified:   he.ipynb\n",
      "\n"
     ]
    }
   ],
   "source": [
    "!git status"
   ]
  },
  {
   "cell_type": "code",
   "execution_count": 18,
   "id": "d59a6279",
   "metadata": {},
   "outputs": [
    {
     "name": "stdout",
     "output_type": "stream",
     "text": [
      "[master (root-commit) b7bf967] First commit\n",
      " 3 files changed, 255 insertions(+)\n",
      " create mode 100644 .gitignore\n",
      " create mode 100644 he.ipynb\n",
      " create mode 100644 training.py\n"
     ]
    }
   ],
   "source": [
    "!git commit -m \"First commit\""
   ]
  },
  {
   "cell_type": "code",
   "execution_count": 19,
   "id": "cfc9c40a",
   "metadata": {},
   "outputs": [
    {
     "name": "stdout",
     "output_type": "stream",
     "text": [
      "commit b7bf9679701219e30ff80ab7c58e21638fc25e10\n",
      "Author: Saurabh Mourya <mouryasaurabh9936@gmail.com>\n",
      "Date:   Tue Aug 5 00:34:01 2025 +0530\n",
      "\n",
      "    First commit\n"
     ]
    }
   ],
   "source": [
    "!git log training.py"
   ]
  },
  {
   "cell_type": "code",
   "execution_count": 20,
   "id": "67983f59",
   "metadata": {},
   "outputs": [],
   "source": [
    "!git remote add upstream  https://github.com/Saurabh-Mourya00/jackel.git"
   ]
  },
  {
   "cell_type": "code",
   "execution_count": 21,
   "id": "b4e9551d",
   "metadata": {},
   "outputs": [
    {
     "name": "stdout",
     "output_type": "stream",
     "text": [
      "branch 'master' set up to track 'upstream/master'.\n"
     ]
    },
    {
     "name": "stderr",
     "output_type": "stream",
     "text": [
      "To https://github.com/Saurabh-Mourya00/jackel.git\n",
      " * [new branch]      master -> master\n"
     ]
    }
   ],
   "source": [
    "!git push -u upstream master"
   ]
  },
  {
   "cell_type": "code",
   "execution_count": 22,
   "id": "6b3ce4f2",
   "metadata": {},
   "outputs": [
    {
     "name": "stderr",
     "output_type": "stream",
     "text": [
      "warning: in the working copy of 'he.ipynb', LF will be replaced by CRLF the next time Git touches it\n"
     ]
    }
   ],
   "source": [
    "!git add ."
   ]
  },
  {
   "cell_type": "code",
   "execution_count": 23,
   "id": "8318626a",
   "metadata": {},
   "outputs": [
    {
     "name": "stdout",
     "output_type": "stream",
     "text": [
      "[master ee3b00a] Testing the issue #1\n",
      " 2 files changed, 119 insertions(+), 3 deletions(-)\n"
     ]
    }
   ],
   "source": [
    "!git commit -m \"Testing the issue #1\""
   ]
  },
  {
   "cell_type": "code",
   "execution_count": 24,
   "id": "9618907e",
   "metadata": {},
   "outputs": [
    {
     "name": "stderr",
     "output_type": "stream",
     "text": [
      "To https://github.com/Saurabh-Mourya00/jackel.git\n",
      "   b7bf967..ee3b00a  master -> master\n"
     ]
    }
   ],
   "source": [
    "!git push"
   ]
  },
  {
   "cell_type": "code",
   "execution_count": 31,
   "id": "933f62b3",
   "metadata": {},
   "outputs": [
    {
     "name": "stderr",
     "output_type": "stream",
     "text": [
      "warning: in the working copy of 'he.ipynb', LF will be replaced by CRLF the next time Git touches it\n"
     ]
    }
   ],
   "source": [
    "!git add ."
   ]
  },
  {
   "cell_type": "code",
   "execution_count": 32,
   "id": "b529b2f7",
   "metadata": {},
   "outputs": [
    {
     "name": "stdout",
     "output_type": "stream",
     "text": [
      "[master 2eb13bf] Resolved  #1\n",
      " 2 files changed, 9 insertions(+), 8 deletions(-)\n"
     ]
    }
   ],
   "source": [
    "!git commit -m \"Resolved  #1\""
   ]
  },
  {
   "cell_type": "code",
   "execution_count": 33,
   "id": "8a68c6db",
   "metadata": {},
   "outputs": [
    {
     "name": "stderr",
     "output_type": "stream",
     "text": [
      "To https://github.com/Saurabh-Mourya00/jackel.git\n",
      "   c93902e..2eb13bf  master -> master\n"
     ]
    }
   ],
   "source": [
    "!git push"
   ]
  },
  {
   "cell_type": "markdown",
   "id": "3caeedef",
   "metadata": {},
   "source": [
    "Branches\n"
   ]
  },
  {
   "cell_type": "code",
   "execution_count": 35,
   "id": "5bd2c2b0",
   "metadata": {},
   "outputs": [
    {
     "name": "stdout",
     "output_type": "stream",
     "text": [
      "* master\n",
      "  remotes/upstream/master\n"
     ]
    }
   ],
   "source": [
    "!git branch -a"
   ]
  },
  {
   "cell_type": "code",
   "execution_count": 36,
   "id": "d6295ddd",
   "metadata": {},
   "outputs": [],
   "source": [
    "!git branch hyperpara"
   ]
  },
  {
   "cell_type": "code",
   "execution_count": 37,
   "id": "36ca2de8",
   "metadata": {},
   "outputs": [
    {
     "name": "stdout",
     "output_type": "stream",
     "text": [
      "On branch master\n",
      "Your branch is up to date with 'upstream/master'.\n",
      "\n",
      "Changes not staged for commit:\n",
      "  (use \"git add <file>...\" to update what will be committed)\n",
      "  (use \"git restore <file>...\" to discard changes in working directory)\n",
      "\tmodified:   he.ipynb\n",
      "\n",
      "no changes added to commit (use \"git add\" and/or \"git commit -a\")\n"
     ]
    }
   ],
   "source": [
    "!git status"
   ]
  },
  {
   "cell_type": "code",
   "execution_count": 38,
   "id": "9c5da4e4",
   "metadata": {},
   "outputs": [
    {
     "name": "stdout",
     "output_type": "stream",
     "text": [
      "  hyperpara\n",
      "* master\n",
      "  remotes/upstream/master\n"
     ]
    }
   ],
   "source": [
    "!git branch -a"
   ]
  },
  {
   "cell_type": "code",
   "execution_count": 39,
   "id": "dcf22417",
   "metadata": {},
   "outputs": [
    {
     "name": "stdout",
     "output_type": "stream",
     "text": [
      "M\the.ipynb\n"
     ]
    },
    {
     "name": "stderr",
     "output_type": "stream",
     "text": [
      "Switched to branch 'hyperpara'\n"
     ]
    }
   ],
   "source": [
    "!git switch hyperpara"
   ]
  },
  {
   "cell_type": "code",
   "execution_count": 40,
   "id": "76680f7b",
   "metadata": {},
   "outputs": [
    {
     "name": "stdout",
     "output_type": "stream",
     "text": [
      "On branch hyperpara\n",
      "Changes not staged for commit:\n",
      "  (use \"git add <file>...\" to update what will be committed)\n",
      "  (use \"git restore <file>...\" to discard changes in working directory)\n",
      "\tmodified:   he.ipynb\n",
      "\n",
      "no changes added to commit (use \"git add\" and/or \"git commit -a\")\n"
     ]
    }
   ],
   "source": [
    "!git status"
   ]
  },
  {
   "cell_type": "code",
   "execution_count": 41,
   "id": "459f5469",
   "metadata": {},
   "outputs": [
    {
     "name": "stdout",
     "output_type": "stream",
     "text": [
      "M\the.ipynb\n"
     ]
    },
    {
     "name": "stderr",
     "output_type": "stream",
     "text": [
      "Already on 'hyperpara'\n"
     ]
    }
   ],
   "source": [
    "!git checkout hyperpara"
   ]
  },
  {
   "cell_type": "code",
   "execution_count": 42,
   "id": "0224edd0",
   "metadata": {},
   "outputs": [],
   "source": [
    "!echo \"print(\"Utils\")\" >utils.py"
   ]
  },
  {
   "cell_type": "code",
   "execution_count": 43,
   "id": "e6269f99",
   "metadata": {},
   "outputs": [
    {
     "name": "stderr",
     "output_type": "stream",
     "text": [
      "warning: in the working copy of 'he.ipynb', LF will be replaced by CRLF the next time Git touches it\n"
     ]
    }
   ],
   "source": [
    "!git add ."
   ]
  },
  {
   "cell_type": "code",
   "execution_count": 44,
   "id": "9325326b",
   "metadata": {},
   "outputs": [
    {
     "name": "stdout",
     "output_type": "stream",
     "text": [
      "[hyperpara 8b87af1] Hyper\n",
      " 3 files changed, 180 insertions(+), 9 deletions(-)\n",
      " create mode 100644 utils.py\n"
     ]
    },
    {
     "name": "stderr",
     "output_type": "stream",
     "text": [
      "fatal: The current branch hyperpara has no upstream branch.\n",
      "To push the current branch and set the remote as upstream, use\n",
      "\n",
      "    git push --set-upstream upstream hyperpara\n",
      "\n",
      "To have this happen automatically for branches without a tracking\n",
      "upstream, see 'push.autoSetupRemote' in 'git help config'.\n",
      "\n"
     ]
    }
   ],
   "source": [
    "!git commit -m \"Hyper\"\n",
    "!git push"
   ]
  },
  {
   "cell_type": "code",
   "execution_count": 48,
   "id": "8cb2a46d",
   "metadata": {},
   "outputs": [
    {
     "name": "stdout",
     "output_type": "stream",
     "text": [
      "branch 'hyperpara' set up to track 'upstream/hyperpara'.\n"
     ]
    },
    {
     "name": "stderr",
     "output_type": "stream",
     "text": [
      "remote: \n",
      "remote: Create a pull request for 'hyperpara' on GitHub by visiting:        \n",
      "remote:      https://github.com/Saurabh-Mourya00/jackel/pull/new/hyperpara        \n",
      "remote: \n",
      "To https://github.com/Saurabh-Mourya00/jackel.git\n",
      " * [new branch]      hyperpara -> hyperpara\n"
     ]
    }
   ],
   "source": [
    "!git push --set-upstream upstream hyperpara"
   ]
  },
  {
   "cell_type": "code",
   "execution_count": 51,
   "id": "26f14b33",
   "metadata": {},
   "outputs": [
    {
     "name": "stderr",
     "output_type": "stream",
     "text": [
      "error: Your local changes to the following files would be overwritten by checkout:\n",
      "\the.ipynb\n",
      "Please commit your changes or stash them before you switch branches.\n",
      "Aborting\n"
     ]
    }
   ],
   "source": [
    "!git switch master"
   ]
  },
  {
   "cell_type": "code",
   "execution_count": 52,
   "id": "e0435b87",
   "metadata": {},
   "outputs": [
    {
     "name": "stdout",
     "output_type": "stream",
     "text": [
      "* hyperpara\n",
      "  master\n",
      "  remotes/upstream/hyperpara\n",
      "  remotes/upstream/master\n"
     ]
    }
   ],
   "source": [
    "!git branch -a"
   ]
  },
  {
   "cell_type": "code",
   "execution_count": 53,
   "id": "5439f872",
   "metadata": {},
   "outputs": [
    {
     "name": "stderr",
     "output_type": "stream",
     "text": [
      "error: Your local changes to the following files would be overwritten by checkout:\n",
      "\the.ipynb\n",
      "Please commit your changes or stash them before you switch branches.\n",
      "Aborting\n"
     ]
    }
   ],
   "source": [
    "!git checkout master"
   ]
  },
  {
   "cell_type": "code",
   "execution_count": 54,
   "id": "10192deb",
   "metadata": {},
   "outputs": [
    {
     "name": "stdout",
     "output_type": "stream",
     "text": [
      "commit 8b87af14679ec1efa825ce0485be72aa78411438\n",
      "Author: Saurabh Mourya <mouryasaurabh9936@gmail.com>\n",
      "Date:   Tue Aug 5 01:07:03 2025 +0530\n",
      "\n",
      "    Hyper\n",
      "\n",
      "commit 2eb13bfba5b9128f207308df2742c85f19069d19\n",
      "Author: Saurabh Mourya <mouryasaurabh9936@gmail.com>\n",
      "Date:   Tue Aug 5 00:54:14 2025 +0530\n",
      "\n",
      "    Resolved  #1\n",
      "\n",
      "commit c93902e3bcade5b37c85a68de8d5d7b926a6d17b\n",
      "Author: Saurabh Mourya <mouryasaurabh9936@gmail.com>\n",
      "Date:   Tue Aug 5 00:53:23 2025 +0530\n",
      "\n",
      "    Resolved issue #1\n",
      "\n",
      "commit 18894d61df6feb6f64c8d8a0bd5d1da1f83cf82d\n",
      "Author: Saurabh Mourya <mouryasaurabh9936@gmail.com>\n",
      "Date:   Tue Aug 5 00:51:47 2025 +0530\n",
      "\n",
      "    Resilved issue #1\n",
      "\n",
      "commit ee3b00aebb9f6e76f1affdb96c26e477a39d7ba3\n",
      "Author: Saurabh Mourya <mouryasaurabh9936@gmail.com>\n",
      "Date:   Tue Aug 5 00:48:20 2025 +0530\n",
      "\n",
      "    Testing the issue #1\n",
      "\n",
      "commit b7bf9679701219e30ff80ab7c58e21638fc25e10\n",
      "Author: Saurabh Mourya <mouryasaurabh9936@gmail.com>\n",
      "Date:   Tue Aug 5 00:34:01 2025 +0530\n",
      "\n",
      "    First commit\n"
     ]
    }
   ],
   "source": [
    "!git log he.ipynb"
   ]
  },
  {
   "cell_type": "code",
   "execution_count": null,
   "id": "cda431aa",
   "metadata": {},
   "outputs": [],
   "source": [
    "!git add he.ipynb\n",
    "!git commit -m \"Save changes before switching branch\"\n",
    "!git checkout master"
   ]
  }
 ],
 "metadata": {
  "kernelspec": {
   "display_name": "Python 3",
   "language": "python",
   "name": "python3"
  },
  "language_info": {
   "codemirror_mode": {
    "name": "ipython",
    "version": 3
   },
   "file_extension": ".py",
   "mimetype": "text/x-python",
   "name": "python",
   "nbconvert_exporter": "python",
   "pygments_lexer": "ipython3",
   "version": "3.12.6"
  }
 },
 "nbformat": 4,
 "nbformat_minor": 5
}
