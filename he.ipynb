{
 "cells": [
  {
   "cell_type": "code",
   "execution_count": 2,
   "id": "481d7350",
   "metadata": {},
   "outputs": [
    {
     "name": "stdout",
     "output_type": "stream",
     "text": [
      "Initialized empty Git repository in D:/MLOPS Practice/port1/.git/\n"
     ]
    }
   ],
   "source": [
    "!git init"
   ]
  },
  {
   "cell_type": "code",
   "execution_count": 3,
   "id": "04355445",
   "metadata": {},
   "outputs": [
    {
     "name": "stdout",
     "output_type": "stream",
     "text": [
      "On branch master\n",
      "\n",
      "No commits yet\n",
      "\n",
      "Untracked files:\n",
      "  (use \"git add <file>...\" to include in what will be committed)\n",
      "\the.ipynb\n",
      "\n",
      "nothing added to commit but untracked files present (use \"git add\" to track)\n"
     ]
    }
   ],
   "source": [
    "!git status"
   ]
  },
  {
   "cell_type": "code",
   "execution_count": 5,
   "id": "68ac4bea",
   "metadata": {},
   "outputs": [],
   "source": [
    "!echo. > .gitignore"
   ]
  },
  {
   "cell_type": "code",
   "execution_count": 6,
   "id": "db15d660",
   "metadata": {},
   "outputs": [],
   "source": [
    "!echo  \"*.csv\" >>.gitignore"
   ]
  },
  {
   "cell_type": "code",
   "execution_count": 7,
   "id": "ca58bebb",
   "metadata": {},
   "outputs": [],
   "source": [
    "!echo \"./assets\" >>.gitignore"
   ]
  },
  {
   "cell_type": "code",
   "execution_count": 8,
   "id": "17939ac6",
   "metadata": {},
   "outputs": [
    {
     "name": "stdout",
     "output_type": "stream",
     "text": [
      "On branch master\n",
      "\n",
      "No commits yet\n",
      "\n",
      "Untracked files:\n",
      "  (use \"git add <file>...\" to include in what will be committed)\n",
      "\t.gitignore\n",
      "\the.ipynb\n",
      "\n",
      "nothing added to commit but untracked files present (use \"git add\" to track)\n"
     ]
    }
   ],
   "source": [
    "!git status"
   ]
  },
  {
   "cell_type": "code",
   "execution_count": 9,
   "id": "40988716",
   "metadata": {},
   "outputs": [],
   "source": [
    "!echo \"print(\"Hello from training.py\")\" > training.py"
   ]
  },
  {
   "cell_type": "code",
   "execution_count": 10,
   "id": "ab498cca",
   "metadata": {},
   "outputs": [
    {
     "name": "stdout",
     "output_type": "stream",
     "text": [
      "On branch master\n",
      "\n",
      "No commits yet\n",
      "\n",
      "Untracked files:\n",
      "  (use \"git add <file>...\" to include in what will be committed)\n",
      "\t.gitignore\n",
      "\the.ipynb\n",
      "\ttraining.py\n",
      "\n",
      "nothing added to commit but untracked files present (use \"git add\" to track)\n"
     ]
    }
   ],
   "source": [
    "!git status"
   ]
  },
  {
   "cell_type": "code",
   "execution_count": 11,
   "id": "6e70391d",
   "metadata": {},
   "outputs": [],
   "source": [
    "!git add training.py"
   ]
  },
  {
   "cell_type": "code",
   "execution_count": 12,
   "id": "6abd9374",
   "metadata": {},
   "outputs": [
    {
     "name": "stdout",
     "output_type": "stream",
     "text": [
      "On branch master\n",
      "\n",
      "No commits yet\n",
      "\n",
      "Changes to be committed:\n",
      "  (use \"git rm --cached <file>...\" to unstage)\n",
      "\tnew file:   training.py\n",
      "\n",
      "Untracked files:\n",
      "  (use \"git add <file>...\" to include in what will be committed)\n",
      "\t.gitignore\n",
      "\the.ipynb\n",
      "\n"
     ]
    }
   ],
   "source": [
    "!git status"
   ]
  },
  {
   "cell_type": "code",
   "execution_count": 13,
   "id": "d0315047",
   "metadata": {},
   "outputs": [
    {
     "name": "stderr",
     "output_type": "stream",
     "text": [
      "git: 'add.' is not a git command. See 'git --help'.\n",
      "\n",
      "The most similar command is\n",
      "\tadd\n"
     ]
    }
   ],
   "source": [
    "!git add."
   ]
  },
  {
   "cell_type": "code",
   "execution_count": 16,
   "id": "72f265f1",
   "metadata": {},
   "outputs": [
    {
     "name": "stderr",
     "output_type": "stream",
     "text": [
      "warning: in the working copy of 'he.ipynb', LF will be replaced by CRLF the next time Git touches it\n"
     ]
    }
   ],
   "source": [
    "! git add ."
   ]
  },
  {
   "cell_type": "code",
   "execution_count": 17,
   "id": "7826c9e2",
   "metadata": {},
   "outputs": [
    {
     "name": "stdout",
     "output_type": "stream",
     "text": [
      "On branch master\n",
      "\n",
      "No commits yet\n",
      "\n",
      "Changes to be committed:\n",
      "  (use \"git rm --cached <file>...\" to unstage)\n",
      "\tnew file:   .gitignore\n",
      "\tnew file:   he.ipynb\n",
      "\tnew file:   training.py\n",
      "\n",
      "Changes not staged for commit:\n",
      "  (use \"git add <file>...\" to update what will be committed)\n",
      "  (use \"git restore <file>...\" to discard changes in working directory)\n",
      "\tmodified:   he.ipynb\n",
      "\n"
     ]
    }
   ],
   "source": [
    "!git status"
   ]
  },
  {
   "cell_type": "code",
   "execution_count": 18,
   "id": "d59a6279",
   "metadata": {},
   "outputs": [
    {
     "name": "stdout",
     "output_type": "stream",
     "text": [
      "[master (root-commit) b7bf967] First commit\n",
      " 3 files changed, 255 insertions(+)\n",
      " create mode 100644 .gitignore\n",
      " create mode 100644 he.ipynb\n",
      " create mode 100644 training.py\n"
     ]
    }
   ],
   "source": [
    "!git commit -m \"First commit\""
   ]
  },
  {
   "cell_type": "code",
   "execution_count": 19,
   "id": "cfc9c40a",
   "metadata": {},
   "outputs": [
    {
     "name": "stdout",
     "output_type": "stream",
     "text": [
      "commit b7bf9679701219e30ff80ab7c58e21638fc25e10\n",
      "Author: Saurabh Mourya <mouryasaurabh9936@gmail.com>\n",
      "Date:   Tue Aug 5 00:34:01 2025 +0530\n",
      "\n",
      "    First commit\n"
     ]
    }
   ],
   "source": [
    "!git log training.py"
   ]
  },
  {
   "cell_type": "code",
   "execution_count": 20,
   "id": "67983f59",
   "metadata": {},
   "outputs": [],
   "source": [
    "!git remote add upstream  https://github.com/Saurabh-Mourya00/jackel.git"
   ]
  },
  {
   "cell_type": "code",
   "execution_count": 21,
   "id": "b4e9551d",
   "metadata": {},
   "outputs": [
    {
     "name": "stdout",
     "output_type": "stream",
     "text": [
      "branch 'master' set up to track 'upstream/master'.\n"
     ]
    },
    {
     "name": "stderr",
     "output_type": "stream",
     "text": [
      "To https://github.com/Saurabh-Mourya00/jackel.git\n",
      " * [new branch]      master -> master\n"
     ]
    }
   ],
   "source": [
    "!git push -u upstream master"
   ]
  },
  {
   "cell_type": "code",
   "execution_count": 22,
   "id": "6b3ce4f2",
   "metadata": {},
   "outputs": [
    {
     "name": "stderr",
     "output_type": "stream",
     "text": [
      "warning: in the working copy of 'he.ipynb', LF will be replaced by CRLF the next time Git touches it\n"
     ]
    }
   ],
   "source": [
    "!git add ."
   ]
  },
  {
   "cell_type": "code",
   "execution_count": 23,
   "id": "8318626a",
   "metadata": {},
   "outputs": [
    {
     "name": "stdout",
     "output_type": "stream",
     "text": [
      "[master ee3b00a] Testing the issue #1\n",
      " 2 files changed, 119 insertions(+), 3 deletions(-)\n"
     ]
    }
   ],
   "source": [
    "!git commit -m \"Testing the issue #1\""
   ]
  },
  {
   "cell_type": "code",
   "execution_count": 24,
   "id": "9618907e",
   "metadata": {},
   "outputs": [
    {
     "name": "stderr",
     "output_type": "stream",
     "text": [
      "To https://github.com/Saurabh-Mourya00/jackel.git\n",
      "   b7bf967..ee3b00a  master -> master\n"
     ]
    }
   ],
   "source": [
    "!git push"
   ]
  },
  {
   "cell_type": "code",
   "execution_count": null,
   "id": "933f62b3",
   "metadata": {},
   "outputs": [],
   "source": [
    "!git add ."
   ]
  }
 ],
 "metadata": {
  "kernelspec": {
   "display_name": "Python 3",
   "language": "python",
   "name": "python3"
  },
  "language_info": {
   "codemirror_mode": {
    "name": "ipython",
    "version": 3
   },
   "file_extension": ".py",
   "mimetype": "text/x-python",
   "name": "python",
   "nbconvert_exporter": "python",
   "pygments_lexer": "ipython3",
   "version": "3.12.6"
  }
 },
 "nbformat": 4,
 "nbformat_minor": 5
}
